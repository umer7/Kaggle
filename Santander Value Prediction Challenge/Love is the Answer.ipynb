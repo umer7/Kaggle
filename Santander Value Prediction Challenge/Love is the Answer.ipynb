{
  "cells": [
    {
      "metadata": {
        "_uuid": "8f2839f25d086af736a60e9eeb907d3b93b6e0e5",
        "_cell_guid": "b1076dfc-b9ad-4769-8c92-a6c4dae69d19",
        "trusted": true
      },
      "cell_type": "code",
      "source": "print(\"hello\")",
      "execution_count": 1,
      "outputs": [
        {
          "output_type": "stream",
          "text": "hello\n",
          "name": "stdout"
        }
      ]
    },
    {
      "metadata": {
        "trusted": true,
        "_uuid": "55897724a25c5614b3fcf655831eae9f5f2b923c"
      },
      "cell_type": "code",
      "source": "import lightgbm as lgb\nfrom sklearn import *\nimport pandas as pd\nimport numpy as np\n\n#from top scoring kernels and blends - for testing only\nsub1 = pd.read_csv('../input/best-ensemble-score-made-available-0-68/SHAZ13_ENS_LEAKS.csv')\nsub2 = pd.read_csv('../input/best-ensemble-score-made-available-0-63/ENS_LEAKS.csv')\nsub3 = pd.read_csv('../input/feature-scoring-vs-zeros/leaky_submission.csv')\n\n#standard\ntrain = pd.read_csv('../input/santander-value-prediction-challenge/train.csv')\ntest = pd.read_csv('../input/santander-value-prediction-challenge/test.csv')\nprint(train.shape, test.shape)",
      "execution_count": 2,
      "outputs": [
        {
          "output_type": "stream",
          "text": "/opt/conda/lib/python3.6/site-packages/sklearn/cross_validation.py:41: DeprecationWarning: This module was deprecated in version 0.18 in favor of the model_selection module into which all the refactored classes and functions are moved. Also note that the interface of the new CV iterators are different from that of this module. This module will be removed in 0.20.\n  \"This module will be removed in 0.20.\", DeprecationWarning)\n/opt/conda/lib/python3.6/site-packages/sklearn/grid_search.py:42: DeprecationWarning: This module was deprecated in version 0.18 in favor of the model_selection module into which all the refactored classes and functions are moved. This module will be removed in 0.20.\n  DeprecationWarning)\n/opt/conda/lib/python3.6/site-packages/sklearn/learning_curve.py:22: DeprecationWarning: This module was deprecated in version 0.18 in favor of the model_selection module into which all the functions are moved. This module will be removed in 0.20\n  DeprecationWarning)\n",
          "name": "stderr"
        },
        {
          "output_type": "stream",
          "text": "(4459, 4993) (49342, 4992)\n",
          "name": "stdout"
        }
      ]
    },
    {
      "metadata": {
        "trusted": true,
        "_uuid": "89027bce3eca0597953f8e2f584cc598dba71c8d",
        "collapsed": true
      },
      "cell_type": "code",
      "source": "from PIL import Image, ImageDraw, ImageColor\n\ncol = [c for c in train.columns if c not in ['ID', 'target']]\nxtrain = train[col].copy().values\ntarget = train['target'].values\n\nim = Image.new('RGBA', xtrain.shape)\nwh = ImageColor.getrgb('white')\nre = ImageColor.getrgb('red')\ngr = ImageColor.getrgb('green')\nga = ImageColor.getrgb('gray')\n\nfor x in range(xtrain.shape[0]):\n    for y in range(xtrain.shape[1]):\n        if xtrain[x][y] == 0:\n            im.putpixel((x,y), wh)\n        elif xtrain[x][y] == target[x]:\n            im.putpixel((x,y), re)\n        elif (np.abs(xtrain[x][y] - target[x]) / target[x]) < 0.05:\n            im.putpixel((x,y), gr)\n        else:\n            im.putpixel((x,y), ga)\nim.save('leak.bmp')",
      "execution_count": 3,
      "outputs": []
    },
    {
      "metadata": {
        "trusted": true,
        "_uuid": "9917a4fcac44c160b3e8aca1412ca0eb61e21e23"
      },
      "cell_type": "code",
      "source": "leak_col = []\nfor c in col:\n    leak1 = np.sum((train[c]==train['target']).astype(int))\n    leak2 = np.sum((((train[c] - train['target']) / train['target']) < 0.05).astype(int))\n    if leak1 > 30 and leak2 > 3500:\n        leak_col.append(c)\nprint(len(leak_col))",
      "execution_count": 4,
      "outputs": [
        {
          "output_type": "stream",
          "text": "51\n",
          "name": "stdout"
        }
      ]
    },
    {
      "metadata": {
        "trusted": true,
        "_uuid": "eb4460196845e92d2a1acc06f40ec44a46cf2b3e",
        "collapsed": true
      },
      "cell_type": "code",
      "source": "col = list(leak_col)\ntrain = train[col +  ['ID', 'target']]\ntest = test[col +  ['ID']]",
      "execution_count": null,
      "outputs": []
    },
    {
      "metadata": {
        "trusted": true,
        "collapsed": true,
        "_uuid": "943e516f1418dae566dd904fc5b0cecf17fa95a5"
      },
      "cell_type": "code",
      "source": "#https://www.kaggle.com/johnfarrell/baseline-with-lag-select-fake-rows-dropped\ntrain[\"nz_mean\"] = train[col].apply(lambda x: x[x!=0].mean(), axis=1)\ntrain[\"nz_max\"] = train[col].apply(lambda x: x[x!=0].max(), axis=1)\ntrain[\"nz_min\"] = train[col].apply(lambda x: x[x!=0].min(), axis=1)\ntrain[\"ez\"] = train[col].apply(lambda x: len(x[x==0]), axis=1)\ntrain[\"mean\"] = train[col].apply(lambda x: x.mean(), axis=1)\ntrain[\"max\"] = train[col].apply(lambda x: x.max(), axis=1)\ntrain[\"min\"] = train[col].apply(lambda x: x.min(), axis=1)\n\ntest[\"nz_mean\"] = test[col].apply(lambda x: x[x!=0].mean(), axis=1)\ntest[\"nz_max\"] = test[col].apply(lambda x: x[x!=0].max(), axis=1)\ntest[\"nz_min\"] = test[col].apply(lambda x: x[x!=0].min(), axis=1)\ntest[\"ez\"] = test[col].apply(lambda x: len(x[x==0]), axis=1)\ntest[\"mean\"] = test[col].apply(lambda x: x.mean(), axis=1)\ntest[\"max\"] = test[col].apply(lambda x: x.max(), axis=1)\ntest[\"min\"] = test[col].apply(lambda x: x.min(), axis=1)\ncol += ['nz_mean', 'nz_max', 'nz_min', 'ez', 'mean', 'max', 'min']",
      "execution_count": null,
      "outputs": []
    },
    {
      "metadata": {
        "trusted": true,
        "_uuid": "2d57b5afac7dc6f63f38bd873a451d7562eae4cb",
        "collapsed": true
      },
      "cell_type": "code",
      "source": "for i in range(2, 100):\n    train['index'+str(i)] = ((train.index + 2) % i == 0).astype(int)\n    test['index'+str(i)] = ((test.index + 2) % i == 0).astype(int)\n    col.append('index'+str(i))",
      "execution_count": null,
      "outputs": []
    },
    {
      "metadata": {
        "trusted": true,
        "collapsed": true,
        "_uuid": "8ef924e6787a623e221e2280a58ac382f1c67d96"
      },
      "cell_type": "code",
      "source": "test = pd.merge(test, sub3, how='left', on='ID',)",
      "execution_count": null,
      "outputs": []
    },
    {
      "metadata": {
        "trusted": true,
        "_uuid": "a966e82281d5efd79b1d21b4a2d489a00460e23a",
        "collapsed": true
      },
      "cell_type": "code",
      "source": "from scipy.sparse import csr_matrix, vstack\ntrain = train.replace(0, np.nan)\ntest = test.replace(0, np.nan)\ntrain = pd.concat((train, test), axis=0, ignore_index=True)",
      "execution_count": null,
      "outputs": []
    },
    {
      "metadata": {
        "trusted": true,
        "_uuid": "425e5abf5a10185178c677958687f3bf9f37d579",
        "collapsed": true
      },
      "cell_type": "code",
      "source": "test['target'] = 0.0\nfolds = 10\nfor fold in range(folds):\n    x1, x2, y1, y2 = model_selection.train_test_split(train[col], np.log1p(train.target.values), test_size=0.20, random_state=fold)\n    params = {'learning_rate': 0.02, 'max_depth': 100, 'boosting': 'gbdt','num_leaves':500 , 'objective': 'regression', 'metric': 'rmse', 'is_training_metric': True, 'feature_fraction': 0.9, 'bagging_fraction': 0.8, 'bagging_freq': 10, 'seed':fold}\n    model = lgb.train(params, lgb.Dataset(x1, label=y1), 4000, lgb.Dataset(x2, label=y2), verbose_eval=200, early_stopping_rounds=2500)\n    test['target'] += np.expm1(model.predict(test[col], num_iteration=model.best_iteration))\ntest['target'] /= folds\ntest[['ID', 'target']].to_csv('submission.csv', index=False)",
      "execution_count": null,
      "outputs": []
    },
    {
      "metadata": {
        "trusted": true,
        "_uuid": "03f77791a751bc71183507f96c0dd55e752ae11b",
        "collapsed": true,
        "_kg_hide-input": true,
        "_kg_hide-output": true
      },
      "cell_type": "code",
      "source": "b1 = sub1.rename(columns={'target':'dp1'})\nb2 = pd.read_csv('submission.csv').rename(columns={'target':'dp2'})\nb1 = pd.merge(b1, b2, how='left', on='ID')\nb1['target'] = (b1['dp1'] * 0.8) + (b1['dp2'] * 0.2)\nb1[['ID','target']].to_csv('blend01.csv', index=False)",
      "execution_count": null,
      "outputs": []
    },
    {
      "metadata": {
        "trusted": true,
        "collapsed": true,
        "_uuid": "82a528edc72ccd283a277b97c5707190a98e70f8",
        "_kg_hide-input": true,
        "_kg_hide-output": true
      },
      "cell_type": "code",
      "source": "b1 = sub2.rename(columns={'target':'dp1'})\nb2 = pd.read_csv('blend01.csv').rename(columns={'target':'dp2'})\nb1 = pd.merge(b1, b2, how='left', on='ID')\nb1['target'] = (b1['dp1'] * 0.8) + (b1['dp2'] * 0.2)\nb1[['ID','target']].to_csv('blend02.csv', index=False)",
      "execution_count": null,
      "outputs": []
    },
    {
      "metadata": {
        "trusted": true,
        "collapsed": true,
        "_uuid": "b59476692efa42026c311e2e885feca96227398e",
        "_kg_hide-input": true,
        "_kg_hide-output": true
      },
      "cell_type": "code",
      "source": "b1 = sub2.rename(columns={'target':'dp1'})\nb2 = pd.read_csv('blend02.csv').rename(columns={'target':'dp2'})\nb1 = pd.merge(b1, b2, how='left', on='ID')\nb1['target'] = (b1['dp1'] * 0.5) + (b1['dp2'] * 0.5)\nb1[['ID','target']].to_csv('blend03.csv', index=False)",
      "execution_count": null,
      "outputs": []
    },
    {
      "metadata": {
        "trusted": true,
        "collapsed": true,
        "_uuid": "d7072101e3c845884c54753f7061bad03e17816a",
        "_kg_hide-input": true,
        "_kg_hide-output": true
      },
      "cell_type": "code",
      "source": "b1 = sub3.rename(columns={'target':'dp1'})\nb2 = pd.read_csv('blend03.csv').rename(columns={'target':'dp2'})\nb1 = pd.merge(b1, b2, how='left', on='ID')\nb1['target'] = (b1['dp1'] * 0.6) + (b1['dp2'] * 0.4)\nb1[['ID','target']].to_csv('blend04.csv', index=False)",
      "execution_count": null,
      "outputs": []
    },
    {
      "metadata": {
        "trusted": true,
        "_uuid": "0f1731916d8d3afc638d6e3c103757e381f6a6bc",
        "_kg_hide-input": true,
        "_kg_hide-output": true,
        "collapsed": true
      },
      "cell_type": "code",
      "source": "#!rm submission.csv\n#!rm blend01.csv\n#!rm blend02.csv\n#!rm blend03.csv\nprint(\"complete\")",
      "execution_count": null,
      "outputs": []
    },
    {
      "metadata": {
        "trusted": true,
        "collapsed": true,
        "_uuid": "723cd01a3384bad1052252b8782ae5fea19a13a6"
      },
      "cell_type": "code",
      "source": "",
      "execution_count": null,
      "outputs": []
    }
  ],
  "metadata": {
    "kernelspec": {
      "display_name": "Python 3",
      "language": "python",
      "name": "python3"
    },
    "language_info": {
      "name": "python",
      "version": "3.6.4",
      "mimetype": "text/x-python",
      "codemirror_mode": {
        "name": "ipython",
        "version": 3
      },
      "pygments_lexer": "ipython3",
      "nbconvert_exporter": "python",
      "file_extension": ".py"
    }
  },
  "nbformat": 4,
  "nbformat_minor": 1
}